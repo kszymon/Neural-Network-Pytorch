{
  "nbformat": 4,
  "nbformat_minor": 0,
  "metadata": {
    "colab": {
      "provenance": [],
      "authorship_tag": "ABX9TyMZOF4BafGZv6OI5b2Ps6TV",
      "include_colab_link": true
    },
    "kernelspec": {
      "name": "python3",
      "display_name": "Python 3"
    },
    "language_info": {
      "name": "python"
    }
  },
  "cells": [
    {
      "cell_type": "markdown",
      "metadata": {
        "id": "view-in-github",
        "colab_type": "text"
      },
      "source": [
        "<a href=\"https://colab.research.google.com/github/kszymon/Neural-Network-Pytorch/blob/main/konv_nn.ipynb\" target=\"_parent\"><img src=\"https://colab.research.google.com/assets/colab-badge.svg\" alt=\"Open In Colab\"/></a>"
      ]
    },
    {
      "cell_type": "code",
      "execution_count": 16,
      "metadata": {
        "id": "Nngrtm9iXZRx"
      },
      "outputs": [],
      "source": [
        "import torch\n",
        "import torchvision\n",
        "import torch.nn as nn"
      ]
    },
    {
      "cell_type": "code",
      "source": [
        "n_epochs = 3\n",
        "batch_size = 64\n",
        "batch_size_test = 1000\n",
        "learning_rate = 0.01\n",
        "log_interval = 10\n",
        "random_seed = 123"
      ],
      "metadata": {
        "id": "eGYnBE5VXlwn"
      },
      "execution_count": 17,
      "outputs": []
    },
    {
      "cell_type": "code",
      "source": [
        "device = torch.device('cuda') if torch.cuda.is_available() else torch.device('cpu')\n",
        "num_of_devices = torch.cuda.device_count()\n",
        "print(f' num of devices {num_of_devices}')\n",
        "if torch.cuda.is_available():\n",
        "    print(f' device name is {torch.cuda.get_device_name()}')\n",
        "else:\n",
        "    print(' No CUDA device available.')"
      ],
      "metadata": {
        "colab": {
          "base_uri": "https://localhost:8080/"
        },
        "id": "SyrwuoMNYrqB",
        "outputId": "edb6ae0b-5f9e-4e89-e862-8c3780ccc598"
      },
      "execution_count": 18,
      "outputs": [
        {
          "output_type": "stream",
          "name": "stdout",
          "text": [
            " num of devices 0\n",
            " No CUDA device available.\n"
          ]
        }
      ]
    },
    {
      "cell_type": "code",
      "source": [
        "# ładuje cyfry MNIST\n",
        "std = (0.3081, )\n",
        "mu = (0.1307, )\n",
        "\n",
        "# używam dataloader\n",
        "train_loader = torch.utils.data.DataLoader(\n",
        "    torchvision.datasets.MNIST('./data/', train=True, download=True,\n",
        "                                transform=torchvision.transforms.Compose([\n",
        "                                  torchvision.transforms.ToTensor(),\n",
        "                                  torchvision.transforms.Normalize(\n",
        "                                      mu, std\n",
        "                                  )\n",
        "                                ])),\n",
        "    batch_size=batch_size, shuffle=True)\n",
        "\n",
        "# test loader\n",
        "test_loader = torch.utils.data.DataLoader(\n",
        "    torchvision.datasets.MNIST('./data/', train=False, download=True,\n",
        "                               transform=torchvision.transforms.Compose([\n",
        "                                   torchvision.transforms.ToTensor(),\n",
        "                                   torchvision.transforms.Normalize(\n",
        "                                       mu, std\n",
        "                                   )\n",
        "                               ])),\n",
        "    batch_size=batch_size_test, shuffle=False)"
      ],
      "metadata": {
        "id": "nSC27hBrYyeD"
      },
      "execution_count": 19,
      "outputs": []
    },
    {
      "cell_type": "code",
      "source": [
        "# sprawdzam dostep do danych\n",
        "\n",
        "data, target = next(iter(train_loader))\n",
        "print(f'data shape is {data.shape}')\n",
        "print(f'shape of target is {target.shape}')"
      ],
      "metadata": {
        "colab": {
          "base_uri": "https://localhost:8080/"
        },
        "id": "qwxt89d-gdXY",
        "outputId": "9db56f95-400c-4c7f-e421-c98509ab7954"
      },
      "execution_count": 20,
      "outputs": [
        {
          "output_type": "stream",
          "name": "stdout",
          "text": [
            "data shape is torch.Size([64, 1, 28, 28])\n",
            "shape of target is torch.Size([64])\n"
          ]
        }
      ]
    },
    {
      "cell_type": "code",
      "source": [
        "from matplotlib import pyplot as pyplot\n",
        "pyplot.imshow(next(iter(train_loader))[0][5, 0, :, :], cmap='gray')"
      ],
      "metadata": {
        "colab": {
          "base_uri": "https://localhost:8080/",
          "height": 447
        },
        "id": "BvhUfEeZhVP3",
        "outputId": "e14e72ef-6377-4333-b4f4-6107a5116d2b"
      },
      "execution_count": 21,
      "outputs": [
        {
          "output_type": "execute_result",
          "data": {
            "text/plain": [
              "<matplotlib.image.AxesImage at 0x7b37d3d67c50>"
            ]
          },
          "metadata": {},
          "execution_count": 21
        },
        {
          "output_type": "display_data",
          "data": {
            "text/plain": [
              "<Figure size 640x480 with 1 Axes>"
            ],
            "image/png": "[encoded data removed]"
          },
          "metadata": {}
        }
      ]
    },
    {
      "cell_type": "code",
      "source": [
        "# implementacja klasyfikatora\n",
        "\n",
        "import torch.nn.functional as F\n",
        "class Network(nn.Module):\n",
        "  def __init__(self):\n",
        "    super(Network, self).__init__()\n",
        "    self.conv1 = nn.Conv2d(in_channels=1, out_channels=10, kernel_size=5)\n",
        "    self.conv2 = nn.Conv2d(in_channels=10, out_channels=20, kernel_size=5)\n",
        "\n",
        "    # regulzaryzacja\n",
        "    self.conv2_drop = nn.Dropout2d()\n",
        "\n",
        "    # warstwy liniowe\n",
        "    self.linear1 = nn.Linear(320, 50)\n",
        "    self.linear2 = nn.Linear(50, 10)\n",
        "\n",
        "    # funkcja przetwarzania danych w przód:\n",
        "  def forward(self, x):\n",
        "\n",
        "    #print(f'x shape at 0 {x.shape}')\n",
        "\n",
        "    x  = self.conv1(x)\n",
        "    #print(f'shape of x after conv1 {x.shape}')\n",
        "\n",
        "    # max pooling\n",
        "    x = F.max_pool2d(x, kernel_size=2)\n",
        "\n",
        "    #print(f'x shape after first pooling {x.shape}')\n",
        "\n",
        "    # aktywacja\n",
        "    x = F.relu(x)\n",
        "    #print(f'x shape after activation {x.shape}')\n",
        "\n",
        "    x = self.conv2(x)\n",
        "    #print(f'shape of x after conv {x.shape}')\n",
        "\n",
        "    # max pooling\n",
        "    x = F.max_pool2d(x, kernel_size=2)\n",
        "\n",
        "    #print(f'x shape after max pooling {x.shape}')\n",
        "\n",
        "    x = F.relu(x)\n",
        "\n",
        "    # reshaping\n",
        "    x = x.view(-1, 320)\n",
        "\n",
        "    # first linear\n",
        "    x = self.linear1(x)\n",
        "    #print(f'shape of x after first linear {x.shape}')\n",
        "\n",
        "    x = F.relu(x)\n",
        "\n",
        "    # regularyzacja linear\n",
        "    x = F.dropout(x, training=self.training)\n",
        "\n",
        "    #print(f'shape of x after dropout {x.shape}')\n",
        "\n",
        "    # second linear\n",
        "    x = self.linear2(x)\n",
        "\n",
        "    #print(f'x after second linear {x.shape}')\n",
        "\n",
        "    return F.log_softmax(x, dim=1)"
      ],
      "metadata": {
        "id": "Q-x1ZHqGhcwF"
      },
      "execution_count": 22,
      "outputs": []
    },
    {
      "cell_type": "code",
      "source": [
        "a = next(iter(train_loader))\n",
        "print(a[0].shape)\n",
        "print(type(a[0]))"
      ],
      "metadata": {
        "colab": {
          "base_uri": "https://localhost:8080/"
        },
        "id": "efRUO8tW31P3",
        "outputId": "4e8a6e70-faa4-43b2-af82-3833836f5874"
      },
      "execution_count": 23,
      "outputs": [
        {
          "output_type": "stream",
          "name": "stdout",
          "text": [
            "torch.Size([64, 1, 28, 28])\n",
            "<class 'torch.Tensor'>\n"
          ]
        }
      ]
    },
    {
      "cell_type": "code",
      "source": [
        "model = Network()\n",
        "out = model(a[0])\n",
        "\n",
        "print(f'output shape is {out.shape}')"
      ],
      "metadata": {
        "colab": {
          "base_uri": "https://localhost:8080/"
        },
        "id": "E4fv1VUf39nK",
        "outputId": "1efdb049-288e-4a39-f986-ad9b8f41cd08"
      },
      "execution_count": 24,
      "outputs": [
        {
          "output_type": "stream",
          "name": "stdout",
          "text": [
            "output shape is torch.Size([64, 10])\n"
          ]
        }
      ]
    },
    {
      "cell_type": "code",
      "source": [
        "# optymlizer\n",
        "optimizer = torch.optim.Adam(params = model.parameters(), lr=learning_rate)"
      ],
      "metadata": {
        "id": "e3DHTay84l9l"
      },
      "execution_count": 25,
      "outputs": []
    },
    {
      "cell_type": "code",
      "source": [
        "# do wizualizacji postepów uczenia\n",
        "train_losses = []\n",
        "train_counter = []\n",
        "test_losses = []\n",
        "test_counter = [i * len(train_loader.dataset) for i in range(n_epochs + 1)]"
      ],
      "metadata": {
        "id": "N-L6X0Dt5LsV"
      },
      "execution_count": 26,
      "outputs": []
    },
    {
      "cell_type": "code",
      "source": [
        "# training\n",
        "def train_single_epoch(epoch, model, optimizer, train_loader, loss_fcn):\n",
        "\n",
        "    model.train()\n",
        "\n",
        "    for batch_ind, (data, target) in enumerate(train_loader):\n",
        "        optimizer.zero_grad()\n",
        "\n",
        "        # przetwarzanie do przodu\n",
        "        output = model(data)\n",
        "\n",
        "        # obliczenia funkcji kosztu\n",
        "        loss = F.nll_loss(output, target)\n",
        "\n",
        "        # back propagacja\n",
        "        loss.backward()\n",
        "\n",
        "        # uaktulaninie parametrów\n",
        "        optimizer.step()\n",
        "\n",
        "        if batch_ind % log_interval == 0:\n",
        "            print('Train Epoch: {} [{}/{} ({:.0f}%)]\\tLoss: {:.6f}'.format(\n",
        "                epoch, batch_ind * len(data), len(train_loader.dataset),\n",
        "                100. * batch_ind / len(train_loader), loss.item()))"
      ],
      "metadata": {
        "id": "Ezm3Z0Jf6NwF"
      },
      "execution_count": 27,
      "outputs": []
    },
    {
      "cell_type": "code",
      "source": [
        "# testowanie\n",
        "def test():\n",
        "  model.eval()\n",
        "\n",
        "  test_loss = 0\n",
        "  correct = 0\n",
        "\n",
        "  with torch.no_grad():\n",
        "    for data, target in test_loader:\n",
        "      output = model(data)\n",
        "      test_loss += F.nll_loss(output, target).item()\n",
        "\n",
        "      pred = output.data.max(dim=1, keepdim=True)[1]\n",
        "\n",
        "      # sumowanie poprawych predyckji\n",
        "      correct += pred.eq(target.data.view_as(pred)).sum()\n",
        "\n",
        "  test_loss /= len(test_loader.dataset)\n",
        "  test_losses.append(test_loss)\n",
        "\n",
        "  print('\\nTest set: Avg. loss: {: 4f}, Accuracy {}/{} ({:.0f}%)\\n'.format(\n",
        "      test_loss, correct, len(test_loader.dataset),\n",
        "      100. * correct / len(test_loader.dataset)))"
      ],
      "metadata": {
        "id": "2K5qJX-IDQbt"
      },
      "execution_count": 28,
      "outputs": []
    },
    {
      "cell_type": "code",
      "source": [
        "# trenujemy nasz model\n",
        "\n",
        "test()\n",
        "for epoch in range(1, n_epochs + 1):\n",
        "  train_single_epoch(epoch, model, optimizer=optimizer,\n",
        "                     train_loader=train_loader, loss_fcn=F.nll_loss)\n",
        "test()"
      ],
      "metadata": {
        "colab": {
          "base_uri": "https://localhost:8080/"
        },
        "id": "Aa6dhet9H88E",
        "outputId": "0c2be5b0-5bb6-480e-fb42-242bf290ea09"
      },
      "execution_count": 29,
      "outputs": [
        {
          "output_type": "stream",
          "name": "stdout",
          "text": [
            "\n",
            "Test set: Avg. loss:  0.002315, Accuracy 860/10000 (9%)\n",
            "\n",
            "Train Epoch: 1 [0/60000 (0%)]\tLoss: 2.327470\n",
            "Train Epoch: 1 [640/60000 (1%)]\tLoss: 1.424719\n",
            "Train Epoch: 1 [1280/60000 (2%)]\tLoss: 1.056393\n",
            "Train Epoch: 1 [1920/60000 (3%)]\tLoss: 0.798647\n",
            "Train Epoch: 1 [2560/60000 (4%)]\tLoss: 0.824475\n",
            "Train Epoch: 1 [3200/60000 (5%)]\tLoss: 0.703133\n",
            "Train Epoch: 1 [3840/60000 (6%)]\tLoss: 0.948856\n",
            "Train Epoch: 1 [4480/60000 (7%)]\tLoss: 0.716472\n",
            "Train Epoch: 1 [5120/60000 (9%)]\tLoss: 0.654885\n",
            "Train Epoch: 1 [5760/60000 (10%)]\tLoss: 0.369575\n",
            "Train Epoch: 1 [6400/60000 (11%)]\tLoss: 0.713209\n",
            "Train Epoch: 1 [7040/60000 (12%)]\tLoss: 0.303362\n",
            "Train Epoch: 1 [7680/60000 (13%)]\tLoss: 0.684247\n",
            "Train Epoch: 1 [8320/60000 (14%)]\tLoss: 0.394369\n",
            "Train Epoch: 1 [8960/60000 (15%)]\tLoss: 0.391023\n",
            "Train Epoch: 1 [9600/60000 (16%)]\tLoss: 0.382936\n",
            "Train Epoch: 1 [10240/60000 (17%)]\tLoss: 0.487650\n",
            "Train Epoch: 1 [10880/60000 (18%)]\tLoss: 0.361582\n",
            "Train Epoch: 1 [11520/60000 (19%)]\tLoss: 0.707726\n",
            "Train Epoch: 1 [12160/60000 (20%)]\tLoss: 0.577239\n",
            "Train Epoch: 1 [12800/60000 (21%)]\tLoss: 0.431233\n",
            "Train Epoch: 1 [13440/60000 (22%)]\tLoss: 0.551489\n",
            "Train Epoch: 1 [14080/60000 (23%)]\tLoss: 0.313275\n",
            "Train Epoch: 1 [14720/60000 (25%)]\tLoss: 0.435877\n",
            "Train Epoch: 1 [15360/60000 (26%)]\tLoss: 0.461507\n",
            "Train Epoch: 1 [16000/60000 (27%)]\tLoss: 0.266287\n",
            "Train Epoch: 1 [16640/60000 (28%)]\tLoss: 0.490234\n",
            "Train Epoch: 1 [17280/60000 (29%)]\tLoss: 0.466057\n",
            "Train Epoch: 1 [17920/60000 (30%)]\tLoss: 0.434340\n",
            "Train Epoch: 1 [18560/60000 (31%)]\tLoss: 0.378736\n",
            "Train Epoch: 1 [19200/60000 (32%)]\tLoss: 0.342469\n",
            "Train Epoch: 1 [19840/60000 (33%)]\tLoss: 0.554167\n",
            "Train Epoch: 1 [20480/60000 (34%)]\tLoss: 0.526589\n",
            "Train Epoch: 1 [21120/60000 (35%)]\tLoss: 0.436426\n",
            "Train Epoch: 1 [21760/60000 (36%)]\tLoss: 0.254722\n",
            "Train Epoch: 1 [22400/60000 (37%)]\tLoss: 0.216265\n",
            "Train Epoch: 1 [23040/60000 (38%)]\tLoss: 0.292392\n",
            "Train Epoch: 1 [23680/60000 (39%)]\tLoss: 0.455820\n",
            "Train Epoch: 1 [24320/60000 (41%)]\tLoss: 0.388008\n",
            "Train Epoch: 1 [24960/60000 (42%)]\tLoss: 0.348092\n",
            "Train Epoch: 1 [25600/60000 (43%)]\tLoss: 0.429623\n",
            "Train Epoch: 1 [26240/60000 (44%)]\tLoss: 0.491489\n",
            "Train Epoch: 1 [26880/60000 (45%)]\tLoss: 0.388391\n",
            "Train Epoch: 1 [27520/60000 (46%)]\tLoss: 0.278664\n",
            "Train Epoch: 1 [28160/60000 (47%)]\tLoss: 0.222700\n",
            "Train Epoch: 1 [28800/60000 (48%)]\tLoss: 0.242787\n",
            "Train Epoch: 1 [29440/60000 (49%)]\tLoss: 0.413090\n",
            "Train Epoch: 1 [30080/60000 (50%)]\tLoss: 0.304178\n",
            "Train Epoch: 1 [30720/60000 (51%)]\tLoss: 0.344774\n",
            "Train Epoch: 1 [31360/60000 (52%)]\tLoss: 0.448553\n",
            "Train Epoch: 1 [32000/60000 (53%)]\tLoss: 0.256352\n",
            "Train Epoch: 1 [32640/60000 (54%)]\tLoss: 0.177947\n",
            "Train Epoch: 1 [33280/60000 (55%)]\tLoss: 0.410381\n",
            "Train Epoch: 1 [33920/60000 (57%)]\tLoss: 0.267257\n",
            "Train Epoch: 1 [34560/60000 (58%)]\tLoss: 0.368865\n",
            "Train Epoch: 1 [35200/60000 (59%)]\tLoss: 0.303804\n",
            "Train Epoch: 1 [35840/60000 (60%)]\tLoss: 0.277516\n",
            "Train Epoch: 1 [36480/60000 (61%)]\tLoss: 0.250643\n",
            "Train Epoch: 1 [37120/60000 (62%)]\tLoss: 0.297913\n",
            "Train Epoch: 1 [37760/60000 (63%)]\tLoss: 0.218358\n",
            "Train Epoch: 1 [38400/60000 (64%)]\tLoss: 0.145752\n",
            "Train Epoch: 1 [39040/60000 (65%)]\tLoss: 0.186904\n",
            "Train Epoch: 1 [39680/60000 (66%)]\tLoss: 0.609540\n",
            "Train Epoch: 1 [40320/60000 (67%)]\tLoss: 0.430158\n",
            "Train Epoch: 1 [40960/60000 (68%)]\tLoss: 0.247831\n",
            "Train Epoch: 1 [41600/60000 (69%)]\tLoss: 0.340220\n",
            "Train Epoch: 1 [42240/60000 (70%)]\tLoss: 0.123755\n",
            "Train Epoch: 1 [42880/60000 (71%)]\tLoss: 0.167197\n",
            "Train Epoch: 1 [43520/60000 (72%)]\tLoss: 0.185250\n",
            "Train Epoch: 1 [44160/60000 (74%)]\tLoss: 0.252723\n",
            "Train Epoch: 1 [44800/60000 (75%)]\tLoss: 0.220564\n",
            "Train Epoch: 1 [45440/60000 (76%)]\tLoss: 0.494657\n",
            "Train Epoch: 1 [46080/60000 (77%)]\tLoss: 0.219152\n",
            "Train Epoch: 1 [46720/60000 (78%)]\tLoss: 0.317222\n",
            "Train Epoch: 1 [47360/60000 (79%)]\tLoss: 0.252621\n",
            "Train Epoch: 1 [48000/60000 (80%)]\tLoss: 0.216059\n",
            "Train Epoch: 1 [48640/60000 (81%)]\tLoss: 0.361772\n",
            "Train Epoch: 1 [49280/60000 (82%)]\tLoss: 0.112882\n",
            "Train Epoch: 1 [49920/60000 (83%)]\tLoss: 0.253163\n",
            "Train Epoch: 1 [50560/60000 (84%)]\tLoss: 0.149703\n",
            "Train Epoch: 1 [51200/60000 (85%)]\tLoss: 0.239621\n",
            "Train Epoch: 1 [51840/60000 (86%)]\tLoss: 0.631013\n",
            "Train Epoch: 1 [52480/60000 (87%)]\tLoss: 0.101608\n",
            "Train Epoch: 1 [53120/60000 (88%)]\tLoss: 0.188630\n",
            "Train Epoch: 1 [53760/60000 (90%)]\tLoss: 0.235505\n",
            "Train Epoch: 1 [54400/60000 (91%)]\tLoss: 0.239098\n",
            "Train Epoch: 1 [55040/60000 (92%)]\tLoss: 0.280227\n",
            "Train Epoch: 1 [55680/60000 (93%)]\tLoss: 0.445862\n",
            "Train Epoch: 1 [56320/60000 (94%)]\tLoss: 0.215998\n",
            "Train Epoch: 1 [56960/60000 (95%)]\tLoss: 0.151371\n",
            "Train Epoch: 1 [57600/60000 (96%)]\tLoss: 0.380164\n",
            "Train Epoch: 1 [58240/60000 (97%)]\tLoss: 0.369876\n",
            "Train Epoch: 1 [58880/60000 (98%)]\tLoss: 0.083783\n",
            "Train Epoch: 1 [59520/60000 (99%)]\tLoss: 0.353732\n",
            "Train Epoch: 2 [0/60000 (0%)]\tLoss: 0.204236\n",
            "Train Epoch: 2 [640/60000 (1%)]\tLoss: 0.149613\n",
            "Train Epoch: 2 [1280/60000 (2%)]\tLoss: 0.107257\n",
            "Train Epoch: 2 [1920/60000 (3%)]\tLoss: 0.140664\n",
            "Train Epoch: 2 [2560/60000 (4%)]\tLoss: 0.266103\n",
            "Train Epoch: 2 [3200/60000 (5%)]\tLoss: 0.127992\n",
            "Train Epoch: 2 [3840/60000 (6%)]\tLoss: 0.287287\n",
            "Train Epoch: 2 [4480/60000 (7%)]\tLoss: 0.677989\n",
            "Train Epoch: 2 [5120/60000 (9%)]\tLoss: 0.195942\n",
            "Train Epoch: 2 [5760/60000 (10%)]\tLoss: 0.271008\n",
            "Train Epoch: 2 [6400/60000 (11%)]\tLoss: 0.154513\n",
            "Train Epoch: 2 [7040/60000 (12%)]\tLoss: 0.137130\n",
            "Train Epoch: 2 [7680/60000 (13%)]\tLoss: 0.214469\n",
            "Train Epoch: 2 [8320/60000 (14%)]\tLoss: 0.195507\n",
            "Train Epoch: 2 [8960/60000 (15%)]\tLoss: 0.211717\n",
            "Train Epoch: 2 [9600/60000 (16%)]\tLoss: 0.257387\n",
            "Train Epoch: 2 [10240/60000 (17%)]\tLoss: 0.345325\n",
            "Train Epoch: 2 [10880/60000 (18%)]\tLoss: 0.153054\n",
            "Train Epoch: 2 [11520/60000 (19%)]\tLoss: 0.214194\n",
            "Train Epoch: 2 [12160/60000 (20%)]\tLoss: 0.239027\n",
            "Train Epoch: 2 [12800/60000 (21%)]\tLoss: 0.334972\n",
            "Train Epoch: 2 [13440/60000 (22%)]\tLoss: 0.113816\n",
            "Train Epoch: 2 [14080/60000 (23%)]\tLoss: 0.253902\n",
            "Train Epoch: 2 [14720/60000 (25%)]\tLoss: 0.261032\n",
            "Train Epoch: 2 [15360/60000 (26%)]\tLoss: 0.259874\n",
            "Train Epoch: 2 [16000/60000 (27%)]\tLoss: 0.148895\n",
            "Train Epoch: 2 [16640/60000 (28%)]\tLoss: 0.398149\n",
            "Train Epoch: 2 [17280/60000 (29%)]\tLoss: 0.307591\n",
            "Train Epoch: 2 [17920/60000 (30%)]\tLoss: 0.079895\n",
            "Train Epoch: 2 [18560/60000 (31%)]\tLoss: 0.228376\n",
            "Train Epoch: 2 [19200/60000 (32%)]\tLoss: 0.179931\n",
            "Train Epoch: 2 [19840/60000 (33%)]\tLoss: 0.426416\n",
            "Train Epoch: 2 [20480/60000 (34%)]\tLoss: 0.533525\n",
            "Train Epoch: 2 [21120/60000 (35%)]\tLoss: 0.272890\n",
            "Train Epoch: 2 [21760/60000 (36%)]\tLoss: 0.323242\n",
            "Train Epoch: 2 [22400/60000 (37%)]\tLoss: 0.505956\n",
            "Train Epoch: 2 [23040/60000 (38%)]\tLoss: 0.280522\n",
            "Train Epoch: 2 [23680/60000 (39%)]\tLoss: 0.125695\n",
            "Train Epoch: 2 [24320/60000 (41%)]\tLoss: 0.097865\n",
            "Train Epoch: 2 [24960/60000 (42%)]\tLoss: 0.246210\n",
            "Train Epoch: 2 [25600/60000 (43%)]\tLoss: 0.262084\n",
            "Train Epoch: 2 [26240/60000 (44%)]\tLoss: 0.105148\n",
            "Train Epoch: 2 [26880/60000 (45%)]\tLoss: 0.165222\n",
            "Train Epoch: 2 [27520/60000 (46%)]\tLoss: 0.161908\n",
            "Train Epoch: 2 [28160/60000 (47%)]\tLoss: 0.187815\n",
            "Train Epoch: 2 [28800/60000 (48%)]\tLoss: 0.289999\n",
            "Train Epoch: 2 [29440/60000 (49%)]\tLoss: 0.079833\n",
            "Train Epoch: 2 [30080/60000 (50%)]\tLoss: 0.184566\n",
            "Train Epoch: 2 [30720/60000 (51%)]\tLoss: 0.230846\n",
            "Train Epoch: 2 [31360/60000 (52%)]\tLoss: 0.290412\n",
            "Train Epoch: 2 [32000/60000 (53%)]\tLoss: 0.385517\n",
            "Train Epoch: 2 [32640/60000 (54%)]\tLoss: 0.118811\n",
            "Train Epoch: 2 [33280/60000 (55%)]\tLoss: 0.199000\n",
            "Train Epoch: 2 [33920/60000 (57%)]\tLoss: 0.194338\n",
            "Train Epoch: 2 [34560/60000 (58%)]\tLoss: 0.294287\n",
            "Train Epoch: 2 [35200/60000 (59%)]\tLoss: 0.056596\n",
            "Train Epoch: 2 [35840/60000 (60%)]\tLoss: 0.354979\n",
            "Train Epoch: 2 [36480/60000 (61%)]\tLoss: 0.154420\n",
            "Train Epoch: 2 [37120/60000 (62%)]\tLoss: 0.223657\n",
            "Train Epoch: 2 [37760/60000 (63%)]\tLoss: 0.378555\n",
            "Train Epoch: 2 [38400/60000 (64%)]\tLoss: 0.288483\n",
            "Train Epoch: 2 [39040/60000 (65%)]\tLoss: 0.183653\n",
            "Train Epoch: 2 [39680/60000 (66%)]\tLoss: 0.314553\n",
            "Train Epoch: 2 [40320/60000 (67%)]\tLoss: 0.293319\n",
            "Train Epoch: 2 [40960/60000 (68%)]\tLoss: 0.189373\n",
            "Train Epoch: 2 [41600/60000 (69%)]\tLoss: 0.177839\n",
            "Train Epoch: 2 [42240/60000 (70%)]\tLoss: 0.518459\n",
            "Train Epoch: 2 [42880/60000 (71%)]\tLoss: 0.402502\n",
            "Train Epoch: 2 [43520/60000 (72%)]\tLoss: 0.202088\n",
            "Train Epoch: 2 [44160/60000 (74%)]\tLoss: 0.380779\n",
            "Train Epoch: 2 [44800/60000 (75%)]\tLoss: 0.151925\n",
            "Train Epoch: 2 [45440/60000 (76%)]\tLoss: 0.067682\n",
            "Train Epoch: 2 [46080/60000 (77%)]\tLoss: 0.302083\n",
            "Train Epoch: 2 [46720/60000 (78%)]\tLoss: 0.255053\n",
            "Train Epoch: 2 [47360/60000 (79%)]\tLoss: 0.321360\n",
            "Train Epoch: 2 [48000/60000 (80%)]\tLoss: 0.129711\n",
            "Train Epoch: 2 [48640/60000 (81%)]\tLoss: 0.362889\n",
            "Train Epoch: 2 [49280/60000 (82%)]\tLoss: 0.291640\n",
            "Train Epoch: 2 [49920/60000 (83%)]\tLoss: 0.095930\n",
            "Train Epoch: 2 [50560/60000 (84%)]\tLoss: 0.062782\n",
            "Train Epoch: 2 [51200/60000 (85%)]\tLoss: 0.222073\n",
            "Train Epoch: 2 [51840/60000 (86%)]\tLoss: 0.218636\n",
            "Train Epoch: 2 [52480/60000 (87%)]\tLoss: 0.380239\n",
            "Train Epoch: 2 [53120/60000 (88%)]\tLoss: 0.361963\n",
            "Train Epoch: 2 [53760/60000 (90%)]\tLoss: 0.432387\n",
            "Train Epoch: 2 [54400/60000 (91%)]\tLoss: 0.288344\n",
            "Train Epoch: 2 [55040/60000 (92%)]\tLoss: 0.110274\n",
            "Train Epoch: 2 [55680/60000 (93%)]\tLoss: 0.319451\n",
            "Train Epoch: 2 [56320/60000 (94%)]\tLoss: 0.355794\n",
            "Train Epoch: 2 [56960/60000 (95%)]\tLoss: 0.259148\n",
            "Train Epoch: 2 [57600/60000 (96%)]\tLoss: 0.281263\n",
            "Train Epoch: 2 [58240/60000 (97%)]\tLoss: 0.210803\n",
            "Train Epoch: 2 [58880/60000 (98%)]\tLoss: 0.280164\n",
            "Train Epoch: 2 [59520/60000 (99%)]\tLoss: 0.174138\n",
            "Train Epoch: 3 [0/60000 (0%)]\tLoss: 0.405657\n",
            "Train Epoch: 3 [640/60000 (1%)]\tLoss: 0.178941\n",
            "Train Epoch: 3 [1280/60000 (2%)]\tLoss: 0.363520\n",
            "Train Epoch: 3 [1920/60000 (3%)]\tLoss: 0.143624\n",
            "Train Epoch: 3 [2560/60000 (4%)]\tLoss: 0.260907\n",
            "Train Epoch: 3 [3200/60000 (5%)]\tLoss: 0.169789\n",
            "Train Epoch: 3 [3840/60000 (6%)]\tLoss: 0.310032\n",
            "Train Epoch: 3 [4480/60000 (7%)]\tLoss: 0.212755\n",
            "Train Epoch: 3 [5120/60000 (9%)]\tLoss: 0.095954\n",
            "Train Epoch: 3 [5760/60000 (10%)]\tLoss: 0.373475\n",
            "Train Epoch: 3 [6400/60000 (11%)]\tLoss: 0.237862\n",
            "Train Epoch: 3 [7040/60000 (12%)]\tLoss: 0.165346\n",
            "Train Epoch: 3 [7680/60000 (13%)]\tLoss: 0.265927\n",
            "Train Epoch: 3 [8320/60000 (14%)]\tLoss: 0.235140\n",
            "Train Epoch: 3 [8960/60000 (15%)]\tLoss: 0.450284\n",
            "Train Epoch: 3 [9600/60000 (16%)]\tLoss: 0.236059\n",
            "Train Epoch: 3 [10240/60000 (17%)]\tLoss: 0.205142\n",
            "Train Epoch: 3 [10880/60000 (18%)]\tLoss: 0.263741\n",
            "Train Epoch: 3 [11520/60000 (19%)]\tLoss: 0.126871\n",
            "Train Epoch: 3 [12160/60000 (20%)]\tLoss: 0.095387\n",
            "Train Epoch: 3 [12800/60000 (21%)]\tLoss: 0.253425\n",
            "Train Epoch: 3 [13440/60000 (22%)]\tLoss: 0.332420\n",
            "Train Epoch: 3 [14080/60000 (23%)]\tLoss: 0.071436\n",
            "Train Epoch: 3 [14720/60000 (25%)]\tLoss: 0.265932\n",
            "Train Epoch: 3 [15360/60000 (26%)]\tLoss: 0.138253\n",
            "Train Epoch: 3 [16000/60000 (27%)]\tLoss: 0.146207\n",
            "Train Epoch: 3 [16640/60000 (28%)]\tLoss: 0.357368\n",
            "Train Epoch: 3 [17280/60000 (29%)]\tLoss: 0.099571\n",
            "Train Epoch: 3 [17920/60000 (30%)]\tLoss: 0.145557\n",
            "Train Epoch: 3 [18560/60000 (31%)]\tLoss: 0.078656\n",
            "Train Epoch: 3 [19200/60000 (32%)]\tLoss: 0.088263\n",
            "Train Epoch: 3 [19840/60000 (33%)]\tLoss: 0.296197\n",
            "Train Epoch: 3 [20480/60000 (34%)]\tLoss: 0.128705\n",
            "Train Epoch: 3 [21120/60000 (35%)]\tLoss: 0.090611\n",
            "Train Epoch: 3 [21760/60000 (36%)]\tLoss: 0.213341\n",
            "Train Epoch: 3 [22400/60000 (37%)]\tLoss: 0.269048\n",
            "Train Epoch: 3 [23040/60000 (38%)]\tLoss: 0.081587\n",
            "Train Epoch: 3 [23680/60000 (39%)]\tLoss: 0.084054\n",
            "Train Epoch: 3 [24320/60000 (41%)]\tLoss: 0.099165\n",
            "Train Epoch: 3 [24960/60000 (42%)]\tLoss: 0.214971\n",
            "Train Epoch: 3 [25600/60000 (43%)]\tLoss: 0.320719\n",
            "Train Epoch: 3 [26240/60000 (44%)]\tLoss: 0.313521\n",
            "Train Epoch: 3 [26880/60000 (45%)]\tLoss: 0.237503\n",
            "Train Epoch: 3 [27520/60000 (46%)]\tLoss: 0.082197\n",
            "Train Epoch: 3 [28160/60000 (47%)]\tLoss: 0.107040\n",
            "Train Epoch: 3 [28800/60000 (48%)]\tLoss: 0.128921\n",
            "Train Epoch: 3 [29440/60000 (49%)]\tLoss: 0.298345\n",
            "Train Epoch: 3 [30080/60000 (50%)]\tLoss: 0.307070\n",
            "Train Epoch: 3 [30720/60000 (51%)]\tLoss: 0.053428\n",
            "Train Epoch: 3 [31360/60000 (52%)]\tLoss: 0.428049\n",
            "Train Epoch: 3 [32000/60000 (53%)]\tLoss: 0.379155\n",
            "Train Epoch: 3 [32640/60000 (54%)]\tLoss: 0.231564\n",
            "Train Epoch: 3 [33280/60000 (55%)]\tLoss: 0.237663\n",
            "Train Epoch: 3 [33920/60000 (57%)]\tLoss: 0.761401\n",
            "Train Epoch: 3 [34560/60000 (58%)]\tLoss: 0.335640\n",
            "Train Epoch: 3 [35200/60000 (59%)]\tLoss: 0.333763\n",
            "Train Epoch: 3 [35840/60000 (60%)]\tLoss: 0.327930\n",
            "Train Epoch: 3 [36480/60000 (61%)]\tLoss: 0.219224\n",
            "Train Epoch: 3 [37120/60000 (62%)]\tLoss: 0.128262\n",
            "Train Epoch: 3 [37760/60000 (63%)]\tLoss: 0.137066\n",
            "Train Epoch: 3 [38400/60000 (64%)]\tLoss: 0.346220\n",
            "Train Epoch: 3 [39040/60000 (65%)]\tLoss: 0.123153\n",
            "Train Epoch: 3 [39680/60000 (66%)]\tLoss: 0.204577\n",
            "Train Epoch: 3 [40320/60000 (67%)]\tLoss: 0.015019\n",
            "Train Epoch: 3 [40960/60000 (68%)]\tLoss: 0.317488\n",
            "Train Epoch: 3 [41600/60000 (69%)]\tLoss: 0.235185\n",
            "Train Epoch: 3 [42240/60000 (70%)]\tLoss: 0.190218\n",
            "Train Epoch: 3 [42880/60000 (71%)]\tLoss: 0.182801\n",
            "Train Epoch: 3 [43520/60000 (72%)]\tLoss: 0.278288\n",
            "Train Epoch: 3 [44160/60000 (74%)]\tLoss: 0.254642\n",
            "Train Epoch: 3 [44800/60000 (75%)]\tLoss: 0.320774\n",
            "Train Epoch: 3 [45440/60000 (76%)]\tLoss: 0.222549\n",
            "Train Epoch: 3 [46080/60000 (77%)]\tLoss: 0.344666\n",
            "Train Epoch: 3 [46720/60000 (78%)]\tLoss: 0.209360\n",
            "Train Epoch: 3 [47360/60000 (79%)]\tLoss: 0.185112\n",
            "Train Epoch: 3 [48000/60000 (80%)]\tLoss: 0.263759\n",
            "Train Epoch: 3 [48640/60000 (81%)]\tLoss: 0.440687\n",
            "Train Epoch: 3 [49280/60000 (82%)]\tLoss: 0.347860\n",
            "Train Epoch: 3 [49920/60000 (83%)]\tLoss: 0.591143\n",
            "Train Epoch: 3 [50560/60000 (84%)]\tLoss: 0.339063\n",
            "Train Epoch: 3 [51200/60000 (85%)]\tLoss: 0.091874\n",
            "Train Epoch: 3 [51840/60000 (86%)]\tLoss: 0.141979\n",
            "Train Epoch: 3 [52480/60000 (87%)]\tLoss: 0.318352\n",
            "Train Epoch: 3 [53120/60000 (88%)]\tLoss: 0.311400\n",
            "Train Epoch: 3 [53760/60000 (90%)]\tLoss: 0.070906\n",
            "Train Epoch: 3 [54400/60000 (91%)]\tLoss: 0.234727\n",
            "Train Epoch: 3 [55040/60000 (92%)]\tLoss: 0.342655\n",
            "Train Epoch: 3 [55680/60000 (93%)]\tLoss: 0.455437\n",
            "Train Epoch: 3 [56320/60000 (94%)]\tLoss: 0.205429\n",
            "Train Epoch: 3 [56960/60000 (95%)]\tLoss: 0.117490\n",
            "Train Epoch: 3 [57600/60000 (96%)]\tLoss: 0.196412\n",
            "Train Epoch: 3 [58240/60000 (97%)]\tLoss: 0.244553\n",
            "Train Epoch: 3 [58880/60000 (98%)]\tLoss: 0.303775\n",
            "Train Epoch: 3 [59520/60000 (99%)]\tLoss: 0.138669\n",
            "\n",
            "Test set: Avg. loss:  0.000095, Accuracy 9756/10000 (98%)\n",
            "\n"
          ]
        }
      ]
    },
    {
      "cell_type": "code",
      "source": [
        "from matplotlib import pyplot as plt\n",
        "data, labels = next(iter(test_loader))\n",
        "with torch.no_grad():\n",
        "  output = model(data)\n",
        "  fig = plt.figure()\n",
        "  for i in range(6):\n",
        "    plt.subplot(2, 3, i + 1)\n",
        "    plt.tight_layout()\n",
        "    plt.imshow(torch.squeeze(data[i][0]), cmap='gray', interpolation='none')\n",
        "    plt.title('prediction: {}'. format(\n",
        "        output.data.max(1, keepdim=True)[1][i].item()\n",
        "    ))\n",
        "    plt.xticks([])\n",
        "    plt.yticks([])"
      ],
      "metadata": {
        "colab": {
          "base_uri": "https://localhost:8080/",
          "height": 438
        },
        "id": "rdNSKdZkBP1l",
        "outputId": "69596318-bbbe-4912-d0fb-bd79551d8433"
      },
      "execution_count": 30,
      "outputs": [
        {
          "output_type": "display_data",
          "data": {
            "text/plain": [
              "<Figure size 640x480 with 6 Axes>"
            ],
            "image/png": "[encoded data removed]"
          },
          "metadata": {}
        }
      ]
    }
  ]
}